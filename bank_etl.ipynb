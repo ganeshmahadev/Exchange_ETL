{
 "cells": [
  {
   "cell_type": "code",
   "execution_count": 1,
   "metadata": {},
   "outputs": [
    {
     "name": "stdout",
     "output_type": "stream",
     "text": [
      "Collecting requests (from -r requirements.txt (line 1))\n",
      "  Using cached requests-2.32.3-py3-none-any.whl.metadata (4.6 kB)\n",
      "Collecting bs4 (from -r requirements.txt (line 2))\n",
      "  Using cached bs4-0.0.2-py2.py3-none-any.whl.metadata (411 bytes)\n",
      "Collecting pandas (from -r requirements.txt (line 3))\n",
      "  Using cached pandas-2.2.3-cp313-cp313-win_amd64.whl.metadata (19 kB)\n",
      "Collecting numpy (from -r requirements.txt (line 4))\n",
      "  Using cached numpy-2.2.1-cp313-cp313-win_amd64.whl.metadata (60 kB)\n",
      "Collecting datetime (from -r requirements.txt (line 6))\n",
      "  Using cached DateTime-5.5-py3-none-any.whl.metadata (33 kB)\n",
      "Note: you may need to restart the kernel to use updated packages.\n"
     ]
    },
    {
     "name": "stderr",
     "output_type": "stream",
     "text": [
      "ERROR: Ignored the following versions that require a different python version: 1.21.2 Requires-Python >=3.7,<3.11; 1.21.3 Requires-Python >=3.7,<3.11; 1.21.4 Requires-Python >=3.7,<3.11; 1.21.5 Requires-Python >=3.7,<3.11; 1.21.6 Requires-Python >=3.7,<3.11; 1.26.0 Requires-Python <3.13,>=3.9; 1.26.1 Requires-Python <3.13,>=3.9\n",
      "ERROR: Could not find a version that satisfies the requirement sqlite3 (from versions: none)\n",
      "\n",
      "[notice] A new release of pip is available: 24.2 -> 24.3.1\n",
      "[notice] To update, run: python.exe -m pip install --upgrade pip\n",
      "ERROR: No matching distribution found for sqlite3\n"
     ]
    }
   ],
   "source": [
    "pip install -r requirements.txt"
   ]
  },
  {
   "cell_type": "code",
   "execution_count": 3,
   "metadata": {},
   "outputs": [
    {
     "ename": "ModuleNotFoundError",
     "evalue": "No module named 'requests'",
     "output_type": "error",
     "traceback": [
      "\u001b[1;31m---------------------------------------------------------------------------\u001b[0m",
      "\u001b[1;31mModuleNotFoundError\u001b[0m                       Traceback (most recent call last)",
      "Cell \u001b[1;32mIn[3], line 1\u001b[0m\n\u001b[1;32m----> 1\u001b[0m \u001b[38;5;28;01mimport\u001b[39;00m \u001b[38;5;21;01mrequests\u001b[39;00m\n\u001b[0;32m      2\u001b[0m \u001b[38;5;28;01mimport\u001b[39;00m \u001b[38;5;21;01mpandas\u001b[39;00m \u001b[38;5;28;01mas\u001b[39;00m \u001b[38;5;21;01mpd\u001b[39;00m\n\u001b[0;32m      3\u001b[0m \u001b[38;5;28;01mimport\u001b[39;00m \u001b[38;5;21;01msqlite3\u001b[39;00m\n",
      "\u001b[1;31mModuleNotFoundError\u001b[0m: No module named 'requests'"
     ]
    }
   ],
   "source": [
    "import requests\n",
    "import pandas as pd\n",
    "import sqlite3\n",
    "from bs4 import BeautifulSoup\n",
    "import logging"
   ]
  },
  {
   "cell_type": "code",
   "execution_count": 4,
   "metadata": {},
   "outputs": [],
   "source": [
    "# Configure logging\n",
    "def log_progress(message):\n",
    "    ''' This function logs the mentioned message of a given stage of the\n",
    "    code execution to a log file. Function returns nothing'''\n",
    "    logging.basicConfig(\n",
    "        filename=\"code_log.txt\",\n",
    "        level=logging.INFO,\n",
    "        format=\"%(asctime)s - %(levelname)s - %(message)s\"\n",
    "    )\n",
    "    logging.info(message)"
   ]
  },
  {
   "cell_type": "code",
   "execution_count": 5,
   "metadata": {},
   "outputs": [],
   "source": [
    "def extract(url, table_attribs):\n",
    "    ''' This function aims to extract the top 10 largest banks in the world \n",
    "    ranked by market capitalization and save it to a DataFrame. \n",
    "    The function returns the DataFrame for further processing. '''\n",
    "    \n",
    "    log_progress(\"Starting data extraction\")\n",
    "    \n",
    "    # Fetch the webpage content\n",
    "    response = requests.get(url)\n",
    "    if response.status_code != 200:\n",
    "        log_progress(\"Failed to fetch the webpage\")\n",
    "        raise Exception(\"Failed to fetch the webpage\")\n",
    "    \n",
    "    # Parse the webpage content using BeautifulSoup\n",
    "    soup = BeautifulSoup(response.text, 'html.parser')\n",
    "    \n",
    "    # Locate the table containing the required information\n",
    "    table = soup.find(\"table\", table_attribs)\n",
    "    if not table:\n",
    "        log_progress(\"Failed to find the specified table on the webpage\")\n",
    "        raise Exception(\"Table not found on the webpage with the provided attributes\")\n",
    "    \n",
    "    rows = table.find_all(\"tr\")\n",
    "    \n",
    "    # Extract data for the top 10 banks\n",
    "    data = []\n",
    "    for row in rows[1:11]:  # Extract only the top 10 rows\n",
    "        cols = row.find_all(\"td\")\n",
    "        if len(cols) > 1:\n",
    "            # Extract the bank name and market capitalization\n",
    "            name = cols[1].text.strip()\n",
    "            mc_text = cols[2].text.strip().replace(\",\", \"\").split(\"[\")[0]\n",
    "            try:\n",
    "                mc_usd = float(mc_text)  # Convert market cap to float\n",
    "                data.append({\"Name\": name, \"Market_Cap_USD_Billion\": mc_usd})\n",
    "            except ValueError:\n",
    "                log_progress(f\"Invalid market capitalization value for {name}\")\n",
    "                continue\n",
    "\n",
    "    # Convert the extracted data into a DataFrame\n",
    "    df = pd.DataFrame(data)\n",
    "    \n",
    "    log_progress(\"Data extraction completed successfully\")\n",
    "    return df"
   ]
  },
  {
   "cell_type": "code",
   "execution_count": 6,
   "metadata": {},
   "outputs": [],
   "source": [
    "def transform(df, csv_path):\n",
    "    ''' This function accesses the CSV file for exchange rate\n",
    "    information, and adds three columns to the data frame, each\n",
    "    containing the transformed version of Market Cap column to\n",
    "    respective currencies'''\n",
    "    try:\n",
    "        rates = pd.read_csv(csv_path)\n",
    "        rates.set_index(\"Currency\", inplace=True)\n",
    "        df[\"Market_Cap_GBP_Billion\"] = df[\"Market_Cap_USD_Billion\"] * rates.loc[\"GBP\", \"Rate\"]\n",
    "        df[\"Market_Cap_EUR_Billion\"] = df[\"Market_Cap_USD_Billion\"] * rates.loc[\"EUR\", \"Rate\"]\n",
    "        df[\"Market_Cap_INR_Billion\"] = df[\"Market_Cap_USD_Billion\"] * rates.loc[\"INR\", \"Rate\"]\n",
    "        log_progress(\"Data transformation successful.\")\n",
    "        return df\n",
    "    except Exception as e:\n",
    "        log_progress(f\"Error during transformation: {e}\")\n",
    "        raise\n"
   ]
  },
  {
   "cell_type": "code",
   "execution_count": 7,
   "metadata": {},
   "outputs": [],
   "source": [
    "def load_to_csv(df, output_path):\n",
    "    ''' This function saves the final data frame as a CSV file in\n",
    "    the provided path. Function returns nothing.'''\n",
    "    try:\n",
    "        df.to_csv(output_path, index=False)\n",
    "        log_progress(f\"Data saved to CSV at {output_path}.\")\n",
    "    except Exception as e:\n",
    "        log_progress(f\"Error saving data to CSV: {e}\")\n",
    "        raise\n",
    "\n",
    "def load_to_db(df, sql_connection, table_name):\n",
    "    ''' This function saves the final data frame to a database\n",
    "    table with the provided name. Function returns nothing.'''\n",
    "    try:\n",
    "        conn = sqlite3.connect(sql_connection)\n",
    "        df.to_sql(table_name, conn, if_exists='replace', index=False)\n",
    "        conn.close()\n",
    "        log_progress(f\"Data saved to database table {table_name}.\")\n",
    "    except Exception as e:\n",
    "        log_progress(f\"Error saving data to database: {e}\")\n",
    "        raise\n"
   ]
  },
  {
   "cell_type": "code",
   "execution_count": 8,
   "metadata": {},
   "outputs": [],
   "source": [
    "def run_query(query_statement, sql_connection):\n",
    "    ''' This function runs the query on the database table and\n",
    "    prints the output on the terminal. Function returns nothing. '''\n",
    "    try:\n",
    "        conn = sqlite3.connect(sql_connection)\n",
    "        cursor = conn.cursor()\n",
    "        cursor.execute(query_statement)\n",
    "        results = cursor.fetchall()\n",
    "        for row in results:\n",
    "            print(row)\n",
    "        conn.close()\n",
    "        log_progress(\"Query executed successfully.\")\n",
    "    except Exception as e:\n",
    "        log_progress(f\"Error running query: {e}\")\n",
    "        raise"
   ]
  },
  {
   "cell_type": "code",
   "execution_count": null,
   "metadata": {},
   "outputs": [
    {
     "ename": "NameError",
     "evalue": "name 'logging' is not defined",
     "output_type": "error",
     "traceback": [
      "\u001b[1;31m---------------------------------------------------------------------------\u001b[0m",
      "\u001b[1;31mNameError\u001b[0m                                 Traceback (most recent call last)",
      "Cell \u001b[1;32mIn[10], line 11\u001b[0m\n\u001b[0;32m     10\u001b[0m \u001b[38;5;28;01mtry\u001b[39;00m:\n\u001b[1;32m---> 11\u001b[0m     df \u001b[38;5;241m=\u001b[39m \u001b[43mextract\u001b[49m\u001b[43m(\u001b[49m\u001b[43mdata_url\u001b[49m\u001b[43m,\u001b[49m\u001b[43m \u001b[49m\u001b[43m{\u001b[49m\u001b[38;5;124;43m\"\u001b[39;49m\u001b[38;5;124;43mclass\u001b[39;49m\u001b[38;5;124;43m\"\u001b[39;49m\u001b[43m:\u001b[49m\u001b[43m \u001b[49m\u001b[38;5;124;43m\"\u001b[39;49m\u001b[38;5;124;43mwikitable\u001b[39;49m\u001b[38;5;124;43m\"\u001b[39;49m\u001b[43m}\u001b[49m\u001b[43m)\u001b[49m\n\u001b[0;32m     12\u001b[0m     \u001b[38;5;28mprint\u001b[39m(df\u001b[38;5;241m.\u001b[39mhead())  \u001b[38;5;66;03m# Debugging: Check extracted data\u001b[39;00m\n",
      "Cell \u001b[1;32mIn[5], line 6\u001b[0m, in \u001b[0;36mextract\u001b[1;34m(url, table_attribs)\u001b[0m\n\u001b[0;32m      2\u001b[0m \u001b[38;5;250m\u001b[39m\u001b[38;5;124;03m''' This function aims to extract the top 10 largest banks in the world \u001b[39;00m\n\u001b[0;32m      3\u001b[0m \u001b[38;5;124;03mranked by market capitalization and save it to a DataFrame. \u001b[39;00m\n\u001b[0;32m      4\u001b[0m \u001b[38;5;124;03mThe function returns the DataFrame for further processing. '''\u001b[39;00m\n\u001b[1;32m----> 6\u001b[0m \u001b[43mlog_progress\u001b[49m\u001b[43m(\u001b[49m\u001b[38;5;124;43m\"\u001b[39;49m\u001b[38;5;124;43mStarting data extraction\u001b[39;49m\u001b[38;5;124;43m\"\u001b[39;49m\u001b[43m)\u001b[49m\n\u001b[0;32m      8\u001b[0m \u001b[38;5;66;03m# Fetch the webpage content\u001b[39;00m\n",
      "Cell \u001b[1;32mIn[4], line 5\u001b[0m, in \u001b[0;36mlog_progress\u001b[1;34m(message)\u001b[0m\n\u001b[0;32m      3\u001b[0m \u001b[38;5;250m\u001b[39m\u001b[38;5;124;03m''' This function logs the mentioned message of a given stage of the\u001b[39;00m\n\u001b[0;32m      4\u001b[0m \u001b[38;5;124;03mcode execution to a log file. Function returns nothing'''\u001b[39;00m\n\u001b[1;32m----> 5\u001b[0m \u001b[43mlogging\u001b[49m\u001b[38;5;241m.\u001b[39mbasicConfig(\n\u001b[0;32m      6\u001b[0m     filename\u001b[38;5;241m=\u001b[39m\u001b[38;5;124m\"\u001b[39m\u001b[38;5;124mcode_log.txt\u001b[39m\u001b[38;5;124m\"\u001b[39m,\n\u001b[0;32m      7\u001b[0m     level\u001b[38;5;241m=\u001b[39mlogging\u001b[38;5;241m.\u001b[39mINFO,\n\u001b[0;32m      8\u001b[0m     \u001b[38;5;28mformat\u001b[39m\u001b[38;5;241m=\u001b[39m\u001b[38;5;124m\"\u001b[39m\u001b[38;5;132;01m%(asctime)s\u001b[39;00m\u001b[38;5;124m - \u001b[39m\u001b[38;5;132;01m%(levelname)s\u001b[39;00m\u001b[38;5;124m - \u001b[39m\u001b[38;5;132;01m%(message)s\u001b[39;00m\u001b[38;5;124m\"\u001b[39m\n\u001b[0;32m      9\u001b[0m )\n\u001b[0;32m     10\u001b[0m logging\u001b[38;5;241m.\u001b[39minfo(message)\n",
      "\u001b[1;31mNameError\u001b[0m: name 'logging' is not defined",
      "\nDuring handling of the above exception, another exception occurred:\n",
      "\u001b[1;31mNameError\u001b[0m                                 Traceback (most recent call last)",
      "Cell \u001b[1;32mIn[10], line 23\u001b[0m\n\u001b[0;32m     20\u001b[0m     run_query(query, db_name)\n\u001b[0;32m     22\u001b[0m \u001b[38;5;28;01mexcept\u001b[39;00m \u001b[38;5;167;01mException\u001b[39;00m \u001b[38;5;28;01mas\u001b[39;00m e:\n\u001b[1;32m---> 23\u001b[0m     \u001b[43mlog_progress\u001b[49m\u001b[43m(\u001b[49m\u001b[38;5;124;43mf\u001b[39;49m\u001b[38;5;124;43m\"\u001b[39;49m\u001b[38;5;124;43mWorkflow execution failed: \u001b[39;49m\u001b[38;5;132;43;01m{\u001b[39;49;00m\u001b[43me\u001b[49m\u001b[38;5;132;43;01m}\u001b[39;49;00m\u001b[38;5;124;43m\"\u001b[39;49m\u001b[43m)\u001b[49m\n",
      "Cell \u001b[1;32mIn[4], line 5\u001b[0m, in \u001b[0;36mlog_progress\u001b[1;34m(message)\u001b[0m\n\u001b[0;32m      2\u001b[0m \u001b[38;5;28;01mdef\u001b[39;00m \u001b[38;5;21mlog_progress\u001b[39m(message):\n\u001b[0;32m      3\u001b[0m \u001b[38;5;250m    \u001b[39m\u001b[38;5;124;03m''' This function logs the mentioned message of a given stage of the\u001b[39;00m\n\u001b[0;32m      4\u001b[0m \u001b[38;5;124;03m    code execution to a log file. Function returns nothing'''\u001b[39;00m\n\u001b[1;32m----> 5\u001b[0m     \u001b[43mlogging\u001b[49m\u001b[38;5;241m.\u001b[39mbasicConfig(\n\u001b[0;32m      6\u001b[0m         filename\u001b[38;5;241m=\u001b[39m\u001b[38;5;124m\"\u001b[39m\u001b[38;5;124mcode_log.txt\u001b[39m\u001b[38;5;124m\"\u001b[39m,\n\u001b[0;32m      7\u001b[0m         level\u001b[38;5;241m=\u001b[39mlogging\u001b[38;5;241m.\u001b[39mINFO,\n\u001b[0;32m      8\u001b[0m         \u001b[38;5;28mformat\u001b[39m\u001b[38;5;241m=\u001b[39m\u001b[38;5;124m\"\u001b[39m\u001b[38;5;132;01m%(asctime)s\u001b[39;00m\u001b[38;5;124m - \u001b[39m\u001b[38;5;132;01m%(levelname)s\u001b[39;00m\u001b[38;5;124m - \u001b[39m\u001b[38;5;132;01m%(message)s\u001b[39;00m\u001b[38;5;124m\"\u001b[39m\n\u001b[0;32m      9\u001b[0m     )\n\u001b[0;32m     10\u001b[0m     logging\u001b[38;5;241m.\u001b[39minfo(message)\n",
      "\u001b[1;31mNameError\u001b[0m: name 'logging' is not defined"
     ]
    }
   ],
   "source": [
    "\n",
    "if __name__ == \"__main__\":\n",
    "    # Define parameters\n",
    "    data_url = \"https://web.archive.org/web/20230908091635/https://en.wikipedia.org/wiki/List_of_largest_banks\"\n",
    "    exchange_rate_csv = \"./exchange_rate.csv\"\n",
    "    output_csv = \"./Largest_banks_data.csv\"\n",
    "    db_name = \"Banks.db\"\n",
    "    table_name = \"Largest_banks\"\n",
    "\n",
    "    # Call functions in sequence\n",
    "    try:\n",
    "        df = extract(data_url, {\"class\": \"wikitable\"})\n",
    "        print(df.head())  # Debugging: Check extracted data\n",
    "        transformed_df = transform(df, exchange_rate_csv)\n",
    "        print(transformed_df.head())  # Debugging: Check transformed data\n",
    "        load_to_csv(transformed_df, output_csv)\n",
    "        load_to_db(transformed_df, db_name, table_name)\n",
    "\n",
    "        # Example query\n",
    "        query = f\"SELECT * FROM {table_name} LIMIT 5;\"\n",
    "        run_query(query, db_name)\n",
    "\n",
    "    except Exception as e:\n",
    "        log_progress(f\"Workflow execution failed: {e}\")"
   ]
  },
  {
   "cell_type": "code",
   "execution_count": null,
   "metadata": {},
   "outputs": [],
   "source": []
  }
 ],
 "metadata": {
  "kernelspec": {
   "display_name": "Python 3",
   "language": "python",
   "name": "python3"
  },
  "language_info": {
   "codemirror_mode": {
    "name": "ipython",
    "version": 3
   },
   "file_extension": ".py",
   "mimetype": "text/x-python",
   "name": "python",
   "nbconvert_exporter": "python",
   "pygments_lexer": "ipython3",
   "version": "3.13.0"
  }
 },
 "nbformat": 4,
 "nbformat_minor": 2
}
